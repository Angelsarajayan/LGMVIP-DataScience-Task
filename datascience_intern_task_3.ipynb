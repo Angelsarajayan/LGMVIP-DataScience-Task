{
  "nbformat": 4,
  "nbformat_minor": 0,
  "metadata": {
    "colab": {
      "provenance": []
    },
    "kernelspec": {
      "name": "python3",
      "display_name": "Python 3"
    },
    "language_info": {
      "name": "python"
    }
  },
  "cells": [
    {
      "cell_type": "markdown",
      "source": [
        "Develop A Neural Network That Can Read Handwriting"
      ],
      "metadata": {
        "id": "WSwyJhdEi3tI"
      }
    },
    {
      "cell_type": "code",
      "source": [
        "import tensorflow as tf\n",
        "from tensorflow.keras.datasets import mnist\n",
        "from tensorflow.keras.models import Sequential\n",
        "from tensorflow.keras.layers import Dense, Flatten, Conv2D, MaxPooling2D\n",
        "from tensorflow.keras.utils import to_categorical\n"
      ],
      "metadata": {
        "id": "Q0ZgZDeLe54x"
      },
      "execution_count": null,
      "outputs": []
    },
    {
      "cell_type": "code",
      "source": [
        "# Load dataset\n",
        "(x_train, y_train), (x_test, y_test) = mnist.load_data()\n",
        "\n",
        "# Normalize the images to a range of 0 to 1\n",
        "x_train = x_train.astype('float32') / 255.0\n",
        "x_test = x_test.astype('float32') / 255.0\n",
        "\n",
        "# Reshape for Conv2D\n",
        "x_train = x_train.reshape((x_train.shape[0], 28, 28, 1))\n",
        "x_test = x_test.reshape((x_test.shape[0], 28, 28, 1))\n",
        "\n",
        "# One-hot encode labels\n",
        "y_train = to_categorical(y_train, 10)\n",
        "y_test = to_categorical(y_test, 10)\n"
      ],
      "metadata": {
        "id": "OroV1BNKfjWQ",
        "colab": {
          "base_uri": "https://localhost:8080/"
        },
        "outputId": "1d8e3b14-626b-4c64-ae9d-c72aa08eb092"
      },
      "execution_count": null,
      "outputs": [
        {
          "output_type": "stream",
          "name": "stdout",
          "text": [
            "Downloading data from https://storage.googleapis.com/tensorflow/tf-keras-datasets/mnist.npz\n",
            "11490434/11490434 [==============================] - 0s 0us/step\n"
          ]
        }
      ]
    },
    {
      "cell_type": "code",
      "source": [
        "#plotting the dataset\n",
        "\n",
        "for i in range(9):\n",
        "  plt.subplot(330 + 1 + i)\n",
        "  plt.imshow(x_train[i], cmap=plt.get_cmap('gray'))\n",
        "plt.show()"
      ],
      "metadata": {
        "colab": {
          "base_uri": "https://localhost:8080/",
          "height": 433
        },
        "id": "bNe-GgOGhyBX",
        "outputId": "3c6ee3b4-9479-46c1-e313-f7e5b4e3a59d"
      },
      "execution_count": null,
      "outputs": [
        {
          "output_type": "display_data",
          "data": {
            "text/plain": [
              "<Figure size 640x480 with 9 Axes>"
            ],
            "image/png": "[encoded data removed]"
          },
          "metadata": {}
        }
      ]
    },
    {
      "cell_type": "code",
      "source": [
        "model = Sequential([\n",
        "    Conv2D(32, kernel_size=(3, 3), activation='relu', input_shape=(28, 28, 1)),\n",
        "    MaxPooling2D(pool_size=(2, 2)),\n",
        "    Conv2D(64, kernel_size=(3, 3), activation='relu'),\n",
        "    MaxPooling2D(pool_size=(2, 2)),\n",
        "    Flatten(),\n",
        "    Dense(128, activation='relu'),\n",
        "    Dense(10, activation='softmax')\n",
        "])\n",
        "\n",
        "# Compile the model\n",
        "model.compile(optimizer='adam', loss='categorical_crossentropy', metrics=['accuracy'])\n"
      ],
      "metadata": {
        "id": "sSeTMLNkfnQY"
      },
      "execution_count": null,
      "outputs": []
    },
    {
      "cell_type": "code",
      "source": [
        "history = model.fit(x_train, y_train, epochs=10, batch_size=128, validation_split=0.2)\n"
      ],
      "metadata": {
        "colab": {
          "base_uri": "https://localhost:8080/"
        },
        "id": "XGywDMtlfwqW",
        "outputId": "6ca92f3d-d3db-4999-f141-62187ed72054"
      },
      "execution_count": null,
      "outputs": [
        {
          "output_type": "stream",
          "name": "stdout",
          "text": [
            "Epoch 1/10\n",
            "375/375 [==============================] - 43s 110ms/step - loss: 0.2389 - accuracy: 0.9295 - val_loss: 0.0812 - val_accuracy: 0.9755\n",
            "Epoch 2/10\n",
            "375/375 [==============================] - 40s 107ms/step - loss: 0.0640 - accuracy: 0.9804 - val_loss: 0.0562 - val_accuracy: 0.9832\n",
            "Epoch 3/10\n",
            "375/375 [==============================] - 42s 111ms/step - loss: 0.0442 - accuracy: 0.9863 - val_loss: 0.0508 - val_accuracy: 0.9854\n",
            "Epoch 4/10\n",
            "375/375 [==============================] - 41s 109ms/step - loss: 0.0332 - accuracy: 0.9897 - val_loss: 0.0412 - val_accuracy: 0.9877\n",
            "Epoch 5/10\n",
            "375/375 [==============================] - 41s 109ms/step - loss: 0.0254 - accuracy: 0.9919 - val_loss: 0.0428 - val_accuracy: 0.9888\n",
            "Epoch 6/10\n",
            "375/375 [==============================] - 40s 107ms/step - loss: 0.0210 - accuracy: 0.9935 - val_loss: 0.0399 - val_accuracy: 0.9885\n",
            "Epoch 7/10\n",
            "375/375 [==============================] - 41s 108ms/step - loss: 0.0162 - accuracy: 0.9948 - val_loss: 0.0369 - val_accuracy: 0.9906\n",
            "Epoch 8/10\n",
            "375/375 [==============================] - 40s 108ms/step - loss: 0.0147 - accuracy: 0.9951 - val_loss: 0.0407 - val_accuracy: 0.9896\n",
            "Epoch 9/10\n",
            "375/375 [==============================] - 40s 108ms/step - loss: 0.0109 - accuracy: 0.9962 - val_loss: 0.0369 - val_accuracy: 0.9906\n",
            "Epoch 10/10\n",
            "375/375 [==============================] - 42s 113ms/step - loss: 0.0088 - accuracy: 0.9971 - val_loss: 0.0474 - val_accuracy: 0.9886\n"
          ]
        }
      ]
    },
    {
      "cell_type": "code",
      "source": [
        "loss, accuracy = model.evaluate(x_test, y_test)\n",
        "print(f'Test Accuracy: {accuracy*100:.2f}%')\n"
      ],
      "metadata": {
        "colab": {
          "base_uri": "https://localhost:8080/"
        },
        "id": "l4A0p0Difz00",
        "outputId": "374f26fe-398d-408b-8ca0-954e39f73e61"
      },
      "execution_count": null,
      "outputs": [
        {
          "output_type": "stream",
          "name": "stdout",
          "text": [
            "313/313 [==============================] - 3s 9ms/step - loss: 0.0360 - accuracy: 0.9899\n",
            "Test Accuracy: 98.99%\n"
          ]
        }
      ]
    },
    {
      "cell_type": "code",
      "source": [
        "# Predicting a single image\n",
        "import numpy as np\n",
        "import matplotlib.pyplot as plt\n",
        "\n",
        "# Select a test image\n",
        "index = 0\n",
        "img = x_test[index]\n",
        "\n",
        "# Display the image\n",
        "plt.imshow(img.reshape(28, 28), cmap='gray')\n",
        "plt.show()\n",
        "\n",
        "# Predict the digit\n",
        "prediction = model.predict(np.expand_dims(img, axis=0))\n",
        "predicted_digit = np.argmax(prediction)\n",
        "print(f'Predicted digit: {predicted_digit}')\n"
      ],
      "metadata": {
        "colab": {
          "base_uri": "https://localhost:8080/",
          "height": 465
        },
        "id": "OFzhmo8ThaCD",
        "outputId": "56856582-95d5-445e-a973-6f4805353ff7"
      },
      "execution_count": null,
      "outputs": [
        {
          "output_type": "display_data",
          "data": {
            "text/plain": [
              "<Figure size 640x480 with 1 Axes>"
            ],
            "image/png": "[encoded data removed]"
          },
          "metadata": {}
        },
        {
          "output_type": "stream",
          "name": "stdout",
          "text": [
            "1/1 [==============================] - 0s 58ms/step\n",
            "Predicted digit: 7\n"
          ]
        }
      ]
    },
    {
      "cell_type": "code",
      "source": [],
      "metadata": {
        "id": "SGskqTl6hfva"
      },
      "execution_count": null,
      "outputs": []
    }
  ]
}